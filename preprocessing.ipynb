{
 "cells": [
  {
   "cell_type": "code",
   "execution_count": 1,
   "id": "168459e4",
   "metadata": {},
   "outputs": [],
   "source": [
    "import pandas as pd\n",
    "import numpy as np\n",
    "import matplotlib.pyplot as plt\n",
    "import plotly.express as px\n",
    "from sklearn.compose import ColumnTransformer\n",
    "from sklearn.preprocessing import StandardScaler,OneHotEncoder"
   ]
  },
  {
   "cell_type": "code",
   "execution_count": 2,
   "id": "8478df1f",
   "metadata": {},
   "outputs": [],
   "source": [
    "X_train = pd.read_csv('X_train',index_col=0)\n",
    "y_train = pd.read_csv('y_train',index_col=0)\n",
    "X_test = pd.read_csv('X_test',index_col=0)\n",
    "y_test = pd.read_csv('y_test',index_col=0)"
   ]
  },
  {
   "cell_type": "code",
   "execution_count": 3,
   "id": "b5ef6577",
   "metadata": {},
   "outputs": [],
   "source": [
    "def select_column(data):\n",
    "    return data[['Distance_km', 'Weather',  'Traffic_Level', 'Time_of_Day', 'Vehicle_Type', 'Preparation_Time_min']]"
   ]
  },
  {
   "cell_type": "code",
   "execution_count": null,
   "id": "99aff982",
   "metadata": {},
   "outputs": [],
   "source": []
  },
  {
   "cell_type": "code",
   "execution_count": 4,
   "id": "7314a6e5",
   "metadata": {},
   "outputs": [
    {
     "data": {
      "text/plain": [
       "Index(['Order_ID', 'Distance_km', 'Weather', 'Traffic_Level', 'Time_of_Day',\n",
       "       'Vehicle_Type', 'Preparation_Time_min', 'Courier_Experience_yrs'],\n",
       "      dtype='object')"
      ]
     },
     "execution_count": 4,
     "metadata": {},
     "output_type": "execute_result"
    }
   ],
   "source": [
    "X_test.columns"
   ]
  },
  {
   "cell_type": "code",
   "execution_count": 5,
   "id": "c9e0cecc",
   "metadata": {},
   "outputs": [],
   "source": [
    "sample = X_test.head(1)[['Distance_km', 'Weather',\n",
    "                         'Traffic_Level', 'Time_of_Day',\n",
    "       'Vehicle_Type', 'Preparation_Time_min']]"
   ]
  },
  {
   "cell_type": "code",
   "execution_count": 6,
   "id": "6cc5bf62",
   "metadata": {},
   "outputs": [
    {
     "data": {
      "text/html": [
       "<div>\n",
       "<style scoped>\n",
       "    .dataframe tbody tr th:only-of-type {\n",
       "        vertical-align: middle;\n",
       "    }\n",
       "\n",
       "    .dataframe tbody tr th {\n",
       "        vertical-align: top;\n",
       "    }\n",
       "\n",
       "    .dataframe thead th {\n",
       "        text-align: right;\n",
       "    }\n",
       "</style>\n",
       "<table border=\"1\" class=\"dataframe\">\n",
       "  <thead>\n",
       "    <tr style=\"text-align: right;\">\n",
       "      <th></th>\n",
       "      <th>Distance_km</th>\n",
       "      <th>Weather</th>\n",
       "      <th>Traffic_Level</th>\n",
       "      <th>Time_of_Day</th>\n",
       "      <th>Vehicle_Type</th>\n",
       "      <th>Preparation_Time_min</th>\n",
       "    </tr>\n",
       "  </thead>\n",
       "  <tbody>\n",
       "    <tr>\n",
       "      <th>925</th>\n",
       "      <td>2.67</td>\n",
       "      <td>Clear</td>\n",
       "      <td>Medium</td>\n",
       "      <td>Night</td>\n",
       "      <td>Car</td>\n",
       "      <td>17</td>\n",
       "    </tr>\n",
       "  </tbody>\n",
       "</table>\n",
       "</div>"
      ],
      "text/plain": [
       "     Distance_km Weather Traffic_Level Time_of_Day Vehicle_Type  \\\n",
       "925         2.67   Clear        Medium       Night          Car   \n",
       "\n",
       "     Preparation_Time_min  \n",
       "925                    17  "
      ]
     },
     "execution_count": 6,
     "metadata": {},
     "output_type": "execute_result"
    }
   ],
   "source": [
    "sample\n"
   ]
  },
  {
   "cell_type": "code",
   "execution_count": 7,
   "id": "b00d7511",
   "metadata": {},
   "outputs": [],
   "source": [
    "def create_speed(data):\n",
    "    data['Speed_[km/m]'] =data['Distance_km'] / data['Preparation_Time_min']\n",
    "    return data "
   ]
  },
  {
   "cell_type": "code",
   "execution_count": 8,
   "id": "eef4a727",
   "metadata": {},
   "outputs": [
    {
     "data": {
      "text/html": [
       "<div>\n",
       "<style scoped>\n",
       "    .dataframe tbody tr th:only-of-type {\n",
       "        vertical-align: middle;\n",
       "    }\n",
       "\n",
       "    .dataframe tbody tr th {\n",
       "        vertical-align: top;\n",
       "    }\n",
       "\n",
       "    .dataframe thead th {\n",
       "        text-align: right;\n",
       "    }\n",
       "</style>\n",
       "<table border=\"1\" class=\"dataframe\">\n",
       "  <thead>\n",
       "    <tr style=\"text-align: right;\">\n",
       "      <th></th>\n",
       "      <th>Distance_km</th>\n",
       "      <th>Weather</th>\n",
       "      <th>Traffic_Level</th>\n",
       "      <th>Time_of_Day</th>\n",
       "      <th>Vehicle_Type</th>\n",
       "      <th>Preparation_Time_min</th>\n",
       "      <th>Speed_[km/m]</th>\n",
       "    </tr>\n",
       "  </thead>\n",
       "  <tbody>\n",
       "    <tr>\n",
       "      <th>925</th>\n",
       "      <td>2.67</td>\n",
       "      <td>Clear</td>\n",
       "      <td>Medium</td>\n",
       "      <td>Night</td>\n",
       "      <td>Car</td>\n",
       "      <td>17</td>\n",
       "      <td>0.157059</td>\n",
       "    </tr>\n",
       "  </tbody>\n",
       "</table>\n",
       "</div>"
      ],
      "text/plain": [
       "     Distance_km Weather Traffic_Level Time_of_Day Vehicle_Type  \\\n",
       "925         2.67   Clear        Medium       Night          Car   \n",
       "\n",
       "     Preparation_Time_min  Speed_[km/m]  \n",
       "925                    17      0.157059  "
      ]
     },
     "execution_count": 8,
     "metadata": {},
     "output_type": "execute_result"
    }
   ],
   "source": [
    "sample = create_speed(sample)\n",
    "sample"
   ]
  },
  {
   "cell_type": "code",
   "execution_count": 9,
   "id": "da66082a",
   "metadata": {},
   "outputs": [
    {
     "name": "stderr",
     "output_type": "stream",
     "text": [
      "C:\\Users\\SAIKAT\\AppData\\Local\\Temp\\ipykernel_16724\\1435621871.py:2: SettingWithCopyWarning: \n",
      "A value is trying to be set on a copy of a slice from a DataFrame.\n",
      "Try using .loc[row_indexer,col_indexer] = value instead\n",
      "\n",
      "See the caveats in the documentation: https://pandas.pydata.org/pandas-docs/stable/user_guide/indexing.html#returning-a-view-versus-a-copy\n",
      "  data['Speed_[km/m]'] =data['Distance_km'] / data['Preparation_Time_min']\n"
     ]
    },
    {
     "data": {
      "text/html": [
       "<div>\n",
       "<style scoped>\n",
       "    .dataframe tbody tr th:only-of-type {\n",
       "        vertical-align: middle;\n",
       "    }\n",
       "\n",
       "    .dataframe tbody tr th {\n",
       "        vertical-align: top;\n",
       "    }\n",
       "\n",
       "    .dataframe thead th {\n",
       "        text-align: right;\n",
       "    }\n",
       "</style>\n",
       "<table border=\"1\" class=\"dataframe\">\n",
       "  <thead>\n",
       "    <tr style=\"text-align: right;\">\n",
       "      <th></th>\n",
       "      <th>Distance_km</th>\n",
       "      <th>Weather</th>\n",
       "      <th>Traffic_Level</th>\n",
       "      <th>Time_of_Day</th>\n",
       "      <th>Vehicle_Type</th>\n",
       "      <th>Preparation_Time_min</th>\n",
       "      <th>Speed_[km/m]</th>\n",
       "    </tr>\n",
       "  </thead>\n",
       "  <tbody>\n",
       "    <tr>\n",
       "      <th>913</th>\n",
       "      <td>12.00</td>\n",
       "      <td>Clear</td>\n",
       "      <td>Low</td>\n",
       "      <td>Evening</td>\n",
       "      <td>Car</td>\n",
       "      <td>25</td>\n",
       "      <td>0.480000</td>\n",
       "    </tr>\n",
       "    <tr>\n",
       "      <th>930</th>\n",
       "      <td>7.34</td>\n",
       "      <td>Foggy</td>\n",
       "      <td>Medium</td>\n",
       "      <td>Afternoon</td>\n",
       "      <td>Bike</td>\n",
       "      <td>22</td>\n",
       "      <td>0.333636</td>\n",
       "    </tr>\n",
       "    <tr>\n",
       "      <th>664</th>\n",
       "      <td>3.64</td>\n",
       "      <td>Clear</td>\n",
       "      <td>Low</td>\n",
       "      <td>Morning</td>\n",
       "      <td>Scooter</td>\n",
       "      <td>16</td>\n",
       "      <td>0.227500</td>\n",
       "    </tr>\n",
       "    <tr>\n",
       "      <th>768</th>\n",
       "      <td>3.97</td>\n",
       "      <td>Clear</td>\n",
       "      <td>High</td>\n",
       "      <td>Afternoon</td>\n",
       "      <td>Bike</td>\n",
       "      <td>19</td>\n",
       "      <td>0.208947</td>\n",
       "    </tr>\n",
       "    <tr>\n",
       "      <th>915</th>\n",
       "      <td>19.04</td>\n",
       "      <td>Rainy</td>\n",
       "      <td>Low</td>\n",
       "      <td>Evening</td>\n",
       "      <td>Car</td>\n",
       "      <td>12</td>\n",
       "      <td>1.586667</td>\n",
       "    </tr>\n",
       "    <tr>\n",
       "      <th>...</th>\n",
       "      <td>...</td>\n",
       "      <td>...</td>\n",
       "      <td>...</td>\n",
       "      <td>...</td>\n",
       "      <td>...</td>\n",
       "      <td>...</td>\n",
       "      <td>...</td>\n",
       "    </tr>\n",
       "    <tr>\n",
       "      <th>107</th>\n",
       "      <td>14.89</td>\n",
       "      <td>Snowy</td>\n",
       "      <td>High</td>\n",
       "      <td>Morning</td>\n",
       "      <td>Scooter</td>\n",
       "      <td>17</td>\n",
       "      <td>0.875882</td>\n",
       "    </tr>\n",
       "    <tr>\n",
       "      <th>272</th>\n",
       "      <td>4.55</td>\n",
       "      <td>Rainy</td>\n",
       "      <td>Low</td>\n",
       "      <td>Afternoon</td>\n",
       "      <td>Bike</td>\n",
       "      <td>5</td>\n",
       "      <td>0.910000</td>\n",
       "    </tr>\n",
       "    <tr>\n",
       "      <th>865</th>\n",
       "      <td>4.05</td>\n",
       "      <td>Clear</td>\n",
       "      <td>Medium</td>\n",
       "      <td>Afternoon</td>\n",
       "      <td>Scooter</td>\n",
       "      <td>21</td>\n",
       "      <td>0.192857</td>\n",
       "    </tr>\n",
       "    <tr>\n",
       "      <th>438</th>\n",
       "      <td>13.60</td>\n",
       "      <td>Foggy</td>\n",
       "      <td>High</td>\n",
       "      <td>Evening</td>\n",
       "      <td>Bike</td>\n",
       "      <td>9</td>\n",
       "      <td>1.511111</td>\n",
       "    </tr>\n",
       "    <tr>\n",
       "      <th>103</th>\n",
       "      <td>18.76</td>\n",
       "      <td>Clear</td>\n",
       "      <td>Medium</td>\n",
       "      <td>Evening</td>\n",
       "      <td>Car</td>\n",
       "      <td>15</td>\n",
       "      <td>1.250667</td>\n",
       "    </tr>\n",
       "  </tbody>\n",
       "</table>\n",
       "<p>795 rows × 7 columns</p>\n",
       "</div>"
      ],
      "text/plain": [
       "     Distance_km Weather Traffic_Level Time_of_Day Vehicle_Type  \\\n",
       "913        12.00   Clear           Low     Evening          Car   \n",
       "930         7.34   Foggy        Medium   Afternoon         Bike   \n",
       "664         3.64   Clear           Low     Morning      Scooter   \n",
       "768         3.97   Clear          High   Afternoon         Bike   \n",
       "915        19.04   Rainy           Low     Evening          Car   \n",
       "..           ...     ...           ...         ...          ...   \n",
       "107        14.89   Snowy          High     Morning      Scooter   \n",
       "272         4.55   Rainy           Low   Afternoon         Bike   \n",
       "865         4.05   Clear        Medium   Afternoon      Scooter   \n",
       "438        13.60   Foggy          High     Evening         Bike   \n",
       "103        18.76   Clear        Medium     Evening          Car   \n",
       "\n",
       "     Preparation_Time_min  Speed_[km/m]  \n",
       "913                    25      0.480000  \n",
       "930                    22      0.333636  \n",
       "664                    16      0.227500  \n",
       "768                    19      0.208947  \n",
       "915                    12      1.586667  \n",
       "..                    ...           ...  \n",
       "107                    17      0.875882  \n",
       "272                     5      0.910000  \n",
       "865                    21      0.192857  \n",
       "438                     9      1.511111  \n",
       "103                    15      1.250667  \n",
       "\n",
       "[795 rows x 7 columns]"
      ]
     },
     "execution_count": 9,
     "metadata": {},
     "output_type": "execute_result"
    }
   ],
   "source": [
    "X_train\n",
    "sample_X_train = select_column(X_train)\n",
    "new_sample_X_train = create_speed(sample_X_train)\n",
    "new_sample_X_train"
   ]
  },
  {
   "cell_type": "code",
   "execution_count": 10,
   "id": "32686461",
   "metadata": {},
   "outputs": [],
   "source": [
    "def drop_column(df):\n",
    "    columns = ['Weather_Windy', \n",
    "               'Traffic_Level_Medium','Time_of_Day_Night'\n",
    "               ,'Vehicle_Type_Scooter']\n",
    "    \n",
    "    new_df = df.drop(columns,axis = 1)\n",
    "    return new_df\n",
    "def int_convertor(column,df ):\n",
    "    \"\"\"\n",
    "    df : pass dataframe in this parameter\n",
    "    columns : pass column for which we need conversion to integer datatype\n",
    "    \n",
    "    this function will convert given column datatype to integer\n",
    "    version : 1\n",
    "    \n",
    "    \"\"\"\n",
    "    try :\n",
    "        df[column] = df[column].astype('int64')\n",
    "    except Exception as e :\n",
    "        print(e)"
   ]
  },
  {
   "cell_type": "code",
   "execution_count": 59,
   "id": "6f1f0f21",
   "metadata": {},
   "outputs": [
    {
     "data": {
      "text/html": [
       "<div>\n",
       "<style scoped>\n",
       "    .dataframe tbody tr th:only-of-type {\n",
       "        vertical-align: middle;\n",
       "    }\n",
       "\n",
       "    .dataframe tbody tr th {\n",
       "        vertical-align: top;\n",
       "    }\n",
       "\n",
       "    .dataframe thead th {\n",
       "        text-align: right;\n",
       "    }\n",
       "</style>\n",
       "<table border=\"1\" class=\"dataframe\">\n",
       "  <thead>\n",
       "    <tr style=\"text-align: right;\">\n",
       "      <th></th>\n",
       "      <th>Distance_km</th>\n",
       "      <th>Preparation_Time_min</th>\n",
       "      <th>Speed_[km/m]</th>\n",
       "      <th>Weather_Clear</th>\n",
       "      <th>Weather_Foggy</th>\n",
       "      <th>Weather_Rainy</th>\n",
       "      <th>Weather_Snowy</th>\n",
       "      <th>Traffic_Level_High</th>\n",
       "      <th>Traffic_Level_Low</th>\n",
       "      <th>Time_of_Day_Afternoon</th>\n",
       "      <th>Time_of_Day_Evening</th>\n",
       "      <th>Time_of_Day_Morning</th>\n",
       "      <th>Vehicle_Type_Bike</th>\n",
       "      <th>Vehicle_Type_Car</th>\n",
       "    </tr>\n",
       "  </thead>\n",
       "  <tbody>\n",
       "    <tr>\n",
       "      <th>0</th>\n",
       "      <td>-1.341724</td>\n",
       "      <td>-0.00243</td>\n",
       "      <td>-0.902557</td>\n",
       "      <td>1.0</td>\n",
       "      <td>0.0</td>\n",
       "      <td>0.0</td>\n",
       "      <td>0.0</td>\n",
       "      <td>0.0</td>\n",
       "      <td>0.0</td>\n",
       "      <td>0.0</td>\n",
       "      <td>0.0</td>\n",
       "      <td>0.0</td>\n",
       "      <td>0.0</td>\n",
       "      <td>1.0</td>\n",
       "    </tr>\n",
       "  </tbody>\n",
       "</table>\n",
       "</div>"
      ],
      "text/plain": [
       "   Distance_km  Preparation_Time_min  Speed_[km/m]  Weather_Clear  \\\n",
       "0    -1.341724              -0.00243     -0.902557            1.0   \n",
       "\n",
       "   Weather_Foggy  Weather_Rainy  Weather_Snowy  Traffic_Level_High  \\\n",
       "0            0.0            0.0            0.0                 0.0   \n",
       "\n",
       "   Traffic_Level_Low  Time_of_Day_Afternoon  Time_of_Day_Evening  \\\n",
       "0                0.0                    0.0                  0.0   \n",
       "\n",
       "   Time_of_Day_Morning  Vehicle_Type_Bike  Vehicle_Type_Car  \n",
       "0                  0.0                0.0               1.0  "
      ]
     },
     "execution_count": 59,
     "metadata": {},
     "output_type": "execute_result"
    }
   ],
   "source": [
    "apply_transformer"
   ]
  },
  {
   "cell_type": "code",
   "execution_count": 11,
   "id": "16fe2428",
   "metadata": {},
   "outputs": [],
   "source": [
    "def apply_transformer(sample):\n",
    "    transformer = ColumnTransformer(\n",
    "        transformers=[\n",
    "            ('numerical',StandardScaler(),['Distance_km','Preparation_Time_min',\n",
    "           'Speed_[km/m]']),\n",
    "            ('categorical',OneHotEncoder(),['Weather', 'Traffic_Level', 'Time_of_Day',\n",
    "           'Vehicle_Type'])\n",
    "                    ],\n",
    "        remainder='passthrough'\n",
    "\n",
    "    )\n",
    "    \n",
    "    sample_X_train = select_column(X_train)\n",
    "    new_sample_X_train = create_speed(sample_X_train)\n",
    "    \n",
    "    transformer.fit(new_sample_X_train)\n",
    "    new_sample= transformer.transform(sample)\n",
    "    new_sample_df=pd.DataFrame(new_sample,columns=[\n",
    "        'Distance_km','Preparation_Time_min','Speed_[km/m]',\n",
    "        'Weather_Clear', 'Weather_Foggy', 'Weather_Rainy', 'Weather_Snowy',\n",
    "           'Weather_Windy', 'Traffic_Level_High', 'Traffic_Level_Low',\n",
    "           'Traffic_Level_Medium', 'Time_of_Day_Afternoon',\n",
    "           'Time_of_Day_Evening', 'Time_of_Day_Morning', 'Time_of_Day_Night',\n",
    "           'Vehicle_Type_Bike', 'Vehicle_Type_Car', 'Vehicle_Type_Scooter'\n",
    "    ])\n",
    "    new_sample_df = drop_column(new_sample_df)\n",
    "    #new_sample_df = int_convertor(new_sample_df)\n",
    "    return new_sample_df"
   ]
  },
  {
   "cell_type": "code",
   "execution_count": 39,
   "id": "cf56d600",
   "metadata": {},
   "outputs": [
    {
     "data": {
      "text/plain": [
       "array([[-1.3417239 , -0.00243018, -0.9025571 ,  1.        ,  0.        ,\n",
       "         0.        ,  0.        ,  0.        ,  0.        ,  0.        ,\n",
       "         1.        ,  0.        ,  0.        ,  0.        ,  1.        ,\n",
       "         0.        ,  1.        ,  0.        ]])"
      ]
     },
     "execution_count": 39,
     "metadata": {},
     "output_type": "execute_result"
    }
   ],
   "source": [
    "new_sample"
   ]
  },
  {
   "cell_type": "code",
   "execution_count": 49,
   "id": "b138272f",
   "metadata": {},
   "outputs": [],
   "source": [
    "categorical_column = transformer.named_transformers_['categorical'].get_feature_names_out()"
   ]
  },
  {
   "cell_type": "code",
   "execution_count": 52,
   "id": "8f25bcfc",
   "metadata": {},
   "outputs": [
    {
     "data": {
      "text/plain": [
       "array(['Weather_Clear', 'Weather_Foggy', 'Weather_Rainy', 'Weather_Snowy',\n",
       "       'Weather_Windy', 'Traffic_Level_High', 'Traffic_Level_Low',\n",
       "       'Traffic_Level_Medium', 'Time_of_Day_Afternoon',\n",
       "       'Time_of_Day_Evening', 'Time_of_Day_Morning', 'Time_of_Day_Night',\n",
       "       'Vehicle_Type_Bike', 'Vehicle_Type_Car', 'Vehicle_Type_Scooter'],\n",
       "      dtype=object)"
      ]
     },
     "execution_count": 52,
     "metadata": {},
     "output_type": "execute_result"
    }
   ],
   "source": [
    "categorical_column"
   ]
  },
  {
   "cell_type": "code",
   "execution_count": 68,
   "id": "b5358b9c",
   "metadata": {},
   "outputs": [
    {
     "data": {
      "text/html": [
       "<div>\n",
       "<style scoped>\n",
       "    .dataframe tbody tr th:only-of-type {\n",
       "        vertical-align: middle;\n",
       "    }\n",
       "\n",
       "    .dataframe tbody tr th {\n",
       "        vertical-align: top;\n",
       "    }\n",
       "\n",
       "    .dataframe thead th {\n",
       "        text-align: right;\n",
       "    }\n",
       "</style>\n",
       "<table border=\"1\" class=\"dataframe\">\n",
       "  <thead>\n",
       "    <tr style=\"text-align: right;\">\n",
       "      <th></th>\n",
       "      <th>Distance_km</th>\n",
       "      <th>Preparation_Time_min</th>\n",
       "      <th>Speed_[km/m]</th>\n",
       "      <th>Weather_Clear</th>\n",
       "      <th>Weather_Foggy</th>\n",
       "      <th>Weather_Rainy</th>\n",
       "      <th>Weather_Snowy</th>\n",
       "      <th>Traffic_Level_High</th>\n",
       "      <th>Traffic_Level_Low</th>\n",
       "      <th>Time_of_Day_Afternoon</th>\n",
       "      <th>Time_of_Day_Evening</th>\n",
       "      <th>Time_of_Day_Morning</th>\n",
       "      <th>Vehicle_Type_Bike</th>\n",
       "      <th>Vehicle_Type_Car</th>\n",
       "    </tr>\n",
       "  </thead>\n",
       "  <tbody>\n",
       "    <tr>\n",
       "      <th>0</th>\n",
       "      <td>-1.341724</td>\n",
       "      <td>-0.00243</td>\n",
       "      <td>-0.902557</td>\n",
       "      <td>1.0</td>\n",
       "      <td>0.0</td>\n",
       "      <td>0.0</td>\n",
       "      <td>0.0</td>\n",
       "      <td>0.0</td>\n",
       "      <td>0.0</td>\n",
       "      <td>0.0</td>\n",
       "      <td>0.0</td>\n",
       "      <td>0.0</td>\n",
       "      <td>0.0</td>\n",
       "      <td>1.0</td>\n",
       "    </tr>\n",
       "  </tbody>\n",
       "</table>\n",
       "</div>"
      ],
      "text/plain": [
       "   Distance_km  Preparation_Time_min  Speed_[km/m]  Weather_Clear  \\\n",
       "0    -1.341724              -0.00243     -0.902557            1.0   \n",
       "\n",
       "   Weather_Foggy  Weather_Rainy  Weather_Snowy  Traffic_Level_High  \\\n",
       "0            0.0            0.0            0.0                 0.0   \n",
       "\n",
       "   Traffic_Level_Low  Time_of_Day_Afternoon  Time_of_Day_Evening  \\\n",
       "0                0.0                    0.0                  0.0   \n",
       "\n",
       "   Time_of_Day_Morning  Vehicle_Type_Bike  Vehicle_Type_Car  \n",
       "0                  0.0                0.0               1.0  "
      ]
     },
     "execution_count": 68,
     "metadata": {},
     "output_type": "execute_result"
    }
   ],
   "source": [
    "apply_transformer(sample)"
   ]
  },
  {
   "cell_type": "code",
   "execution_count": 50,
   "id": "ea3cdef9",
   "metadata": {},
   "outputs": [],
   "source": [
    "numerical_columns = ['Distance_km','Preparation_Time_min','Speed_[km/m]']"
   ]
  },
  {
   "cell_type": "code",
   "execution_count": 65,
   "id": "0ddd125c",
   "metadata": {},
   "outputs": [],
   "source": [
    "import joblib\n",
    "M = joblib.load('regression_model.joblib')"
   ]
  },
  {
   "cell_type": "code",
   "execution_count": 67,
   "id": "c2c5f71b",
   "metadata": {},
   "outputs": [
    {
     "data": {
      "text/plain": [
       "array([[33.34566297]])"
      ]
     },
     "execution_count": 67,
     "metadata": {},
     "output_type": "execute_result"
    }
   ],
   "source": [
    "M.predict(new_sample_df)"
   ]
  },
  {
   "cell_type": "code",
   "execution_count": 66,
   "id": "de6d071c",
   "metadata": {},
   "outputs": [
    {
     "data": {
      "text/html": [
       "<div>\n",
       "<style scoped>\n",
       "    .dataframe tbody tr th:only-of-type {\n",
       "        vertical-align: middle;\n",
       "    }\n",
       "\n",
       "    .dataframe tbody tr th {\n",
       "        vertical-align: top;\n",
       "    }\n",
       "\n",
       "    .dataframe thead th {\n",
       "        text-align: right;\n",
       "    }\n",
       "</style>\n",
       "<table border=\"1\" class=\"dataframe\">\n",
       "  <thead>\n",
       "    <tr style=\"text-align: right;\">\n",
       "      <th></th>\n",
       "      <th>Distance_km</th>\n",
       "      <th>Preparation_Time_min</th>\n",
       "      <th>Speed_[km/m]</th>\n",
       "      <th>Weather_Clear</th>\n",
       "      <th>Weather_Foggy</th>\n",
       "      <th>Weather_Rainy</th>\n",
       "      <th>Weather_Snowy</th>\n",
       "      <th>Traffic_Level_High</th>\n",
       "      <th>Traffic_Level_Low</th>\n",
       "      <th>Time_of_Day_Afternoon</th>\n",
       "      <th>Time_of_Day_Evening</th>\n",
       "      <th>Time_of_Day_Morning</th>\n",
       "      <th>Vehicle_Type_Bike</th>\n",
       "      <th>Vehicle_Type_Car</th>\n",
       "    </tr>\n",
       "  </thead>\n",
       "  <tbody>\n",
       "    <tr>\n",
       "      <th>0</th>\n",
       "      <td>-1.341724</td>\n",
       "      <td>-0.00243</td>\n",
       "      <td>-0.902557</td>\n",
       "      <td>1.0</td>\n",
       "      <td>0.0</td>\n",
       "      <td>0.0</td>\n",
       "      <td>0.0</td>\n",
       "      <td>0.0</td>\n",
       "      <td>0.0</td>\n",
       "      <td>0.0</td>\n",
       "      <td>0.0</td>\n",
       "      <td>0.0</td>\n",
       "      <td>0.0</td>\n",
       "      <td>1.0</td>\n",
       "    </tr>\n",
       "  </tbody>\n",
       "</table>\n",
       "</div>"
      ],
      "text/plain": [
       "   Distance_km  Preparation_Time_min  Speed_[km/m]  Weather_Clear  \\\n",
       "0    -1.341724              -0.00243     -0.902557            1.0   \n",
       "\n",
       "   Weather_Foggy  Weather_Rainy  Weather_Snowy  Traffic_Level_High  \\\n",
       "0            0.0            0.0            0.0                 0.0   \n",
       "\n",
       "   Traffic_Level_Low  Time_of_Day_Afternoon  Time_of_Day_Evening  \\\n",
       "0                0.0                    0.0                  0.0   \n",
       "\n",
       "   Time_of_Day_Morning  Vehicle_Type_Bike  Vehicle_Type_Car  \n",
       "0                  0.0                0.0               1.0  "
      ]
     },
     "execution_count": 66,
     "metadata": {},
     "output_type": "execute_result"
    }
   ],
   "source": [
    "new_sample_df"
   ]
  },
  {
   "cell_type": "code",
   "execution_count": null,
   "id": "8eaf74ff",
   "metadata": {},
   "outputs": [],
   "source": [
    "new_sample_df = apply_transformer(sample)"
   ]
  },
  {
   "cell_type": "code",
   "execution_count": null,
   "id": "fcd76921",
   "metadata": {},
   "outputs": [],
   "source": []
  },
  {
   "cell_type": "code",
   "execution_count": null,
   "id": "e7e8ddc8",
   "metadata": {},
   "outputs": [],
   "source": []
  },
  {
   "cell_type": "code",
   "execution_count": null,
   "id": "cabb542e",
   "metadata": {},
   "outputs": [],
   "source": []
  }
 ],
 "metadata": {
  "kernelspec": {
   "display_name": "Python 3",
   "language": "python",
   "name": "python3"
  },
  "language_info": {
   "codemirror_mode": {
    "name": "ipython",
    "version": 3
   },
   "file_extension": ".py",
   "mimetype": "text/x-python",
   "name": "python",
   "nbconvert_exporter": "python",
   "pygments_lexer": "ipython3",
   "version": "3.11.4"
  }
 },
 "nbformat": 4,
 "nbformat_minor": 5
}
